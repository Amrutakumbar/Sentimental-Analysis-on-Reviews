{
 "cells": [
  {
   "cell_type": "markdown",
   "metadata": {},
   "source": [
    "# IMPORT THE LIBRARIES"
   ]
  },
  {
   "cell_type": "code",
   "execution_count": 1,
   "metadata": {},
   "outputs": [],
   "source": [
    "import pandas as pd"
   ]
  },
  {
   "cell_type": "markdown",
   "metadata": {},
   "source": [
    "# LOAD THE DATASET"
   ]
  },
  {
   "cell_type": "code",
   "execution_count": 2,
   "metadata": {},
   "outputs": [
    {
     "data": {
      "text/html": [
       "<div>\n",
       "<style scoped>\n",
       "    .dataframe tbody tr th:only-of-type {\n",
       "        vertical-align: middle;\n",
       "    }\n",
       "\n",
       "    .dataframe tbody tr th {\n",
       "        vertical-align: top;\n",
       "    }\n",
       "\n",
       "    .dataframe thead th {\n",
       "        text-align: right;\n",
       "    }\n",
       "</style>\n",
       "<table border=\"1\" class=\"dataframe\">\n",
       "  <thead>\n",
       "    <tr style=\"text-align: right;\">\n",
       "      <th></th>\n",
       "      <th>marketplace</th>\n",
       "      <th>customer_id</th>\n",
       "      <th>review_id</th>\n",
       "      <th>product_id</th>\n",
       "      <th>product_parent</th>\n",
       "      <th>product_title</th>\n",
       "      <th>product_category</th>\n",
       "      <th>star_rating</th>\n",
       "      <th>helpful_votes</th>\n",
       "      <th>total_votes</th>\n",
       "      <th>vine</th>\n",
       "      <th>verified_purchase</th>\n",
       "      <th>review_headline</th>\n",
       "      <th>review_body</th>\n",
       "      <th>review_date</th>\n",
       "    </tr>\n",
       "  </thead>\n",
       "  <tbody>\n",
       "    <tr>\n",
       "      <th>5688397</th>\n",
       "      <td>US</td>\n",
       "      <td>46632376</td>\n",
       "      <td>R2O0G4Q1PNWG1F</td>\n",
       "      <td>B00DHZBM98</td>\n",
       "      <td>36942601</td>\n",
       "      <td>Rainbow Star Hard Cover Case for Motorola Droi...</td>\n",
       "      <td>Wireless</td>\n",
       "      <td>5</td>\n",
       "      <td>0</td>\n",
       "      <td>0</td>\n",
       "      <td>0</td>\n",
       "      <td>1</td>\n",
       "      <td>Awesome case</td>\n",
       "      <td>This case fit my phone perfectly and I loved t...</td>\n",
       "      <td>2014-01-21</td>\n",
       "    </tr>\n",
       "    <tr>\n",
       "      <th>8547800</th>\n",
       "      <td>US</td>\n",
       "      <td>21069192</td>\n",
       "      <td>R26FF3VKSSF9PN</td>\n",
       "      <td>B003NBTU2M</td>\n",
       "      <td>709773372</td>\n",
       "      <td>Retractable Car Charger for HTC EVO 4G</td>\n",
       "      <td>Wireless</td>\n",
       "      <td>5</td>\n",
       "      <td>1</td>\n",
       "      <td>1</td>\n",
       "      <td>0</td>\n",
       "      <td>1</td>\n",
       "      <td>Love this thing!</td>\n",
       "      <td>This was one of the most practical and economi...</td>\n",
       "      <td>2011-03-01</td>\n",
       "    </tr>\n",
       "    <tr>\n",
       "      <th>4478014</th>\n",
       "      <td>US</td>\n",
       "      <td>9715549</td>\n",
       "      <td>R1SJSBZJM2V11J</td>\n",
       "      <td>B006WCT7Q8</td>\n",
       "      <td>165672789</td>\n",
       "      <td>Micro USB Wall Charger for Sony Ericsson Vivaz...</td>\n",
       "      <td>Wireless</td>\n",
       "      <td>5</td>\n",
       "      <td>0</td>\n",
       "      <td>0</td>\n",
       "      <td>0</td>\n",
       "      <td>1</td>\n",
       "      <td>Five Stars</td>\n",
       "      <td>excelente</td>\n",
       "      <td>2014-08-07</td>\n",
       "    </tr>\n",
       "    <tr>\n",
       "      <th>4111190</th>\n",
       "      <td>US</td>\n",
       "      <td>6333661</td>\n",
       "      <td>R3GBSEQWBB0P6A</td>\n",
       "      <td>B00KR9FT4Q</td>\n",
       "      <td>897361851</td>\n",
       "      <td>RAVPower 2800mAh Galaxy S4 Replacement Battery...</td>\n",
       "      <td>Wireless</td>\n",
       "      <td>5</td>\n",
       "      <td>0</td>\n",
       "      <td>2</td>\n",
       "      <td>0</td>\n",
       "      <td>1</td>\n",
       "      <td>5 stars</td>\n",
       "      <td>I love it. And it's reliable.</td>\n",
       "      <td>2014-09-16</td>\n",
       "    </tr>\n",
       "    <tr>\n",
       "      <th>3221802</th>\n",
       "      <td>US</td>\n",
       "      <td>6464636</td>\n",
       "      <td>R2BGCP8L0OB7R6</td>\n",
       "      <td>B00D4BDG9O</td>\n",
       "      <td>198845889</td>\n",
       "      <td>Kyocera Duraxt E4277 Soft Touch Rubberized Hol...</td>\n",
       "      <td>Wireless</td>\n",
       "      <td>5</td>\n",
       "      <td>1</td>\n",
       "      <td>1</td>\n",
       "      <td>0</td>\n",
       "      <td>1</td>\n",
       "      <td>Five Stars</td>\n",
       "      <td>I got the right one this time</td>\n",
       "      <td>2014-12-12</td>\n",
       "    </tr>\n",
       "    <tr>\n",
       "      <th>...</th>\n",
       "      <td>...</td>\n",
       "      <td>...</td>\n",
       "      <td>...</td>\n",
       "      <td>...</td>\n",
       "      <td>...</td>\n",
       "      <td>...</td>\n",
       "      <td>...</td>\n",
       "      <td>...</td>\n",
       "      <td>...</td>\n",
       "      <td>...</td>\n",
       "      <td>...</td>\n",
       "      <td>...</td>\n",
       "      <td>...</td>\n",
       "      <td>...</td>\n",
       "      <td>...</td>\n",
       "    </tr>\n",
       "    <tr>\n",
       "      <th>4484327</th>\n",
       "      <td>US</td>\n",
       "      <td>9280610</td>\n",
       "      <td>RXL3VT2ZJUL5A</td>\n",
       "      <td>B0098USUYG</td>\n",
       "      <td>47084439</td>\n",
       "      <td>BestDealUSA Great Fit Screw Type Short Top Roo...</td>\n",
       "      <td>Wireless</td>\n",
       "      <td>2</td>\n",
       "      <td>0</td>\n",
       "      <td>0</td>\n",
       "      <td>0</td>\n",
       "      <td>1</td>\n",
       "      <td>Two Stars</td>\n",
       "      <td>None</td>\n",
       "      <td>2014-08-06</td>\n",
       "    </tr>\n",
       "    <tr>\n",
       "      <th>5137132</th>\n",
       "      <td>US</td>\n",
       "      <td>1908736</td>\n",
       "      <td>R2EYBLFCAERSOQ</td>\n",
       "      <td>B00BTNEAR6</td>\n",
       "      <td>336272712</td>\n",
       "      <td>Aria Rose Pink White Zebra Combo Hard Soft Hig...</td>\n",
       "      <td>Wireless</td>\n",
       "      <td>2</td>\n",
       "      <td>0</td>\n",
       "      <td>0</td>\n",
       "      <td>0</td>\n",
       "      <td>1</td>\n",
       "      <td>It's ok</td>\n",
       "      <td>None</td>\n",
       "      <td>2014-04-28</td>\n",
       "    </tr>\n",
       "    <tr>\n",
       "      <th>7553805</th>\n",
       "      <td>US</td>\n",
       "      <td>17989523</td>\n",
       "      <td>R3GRR0VNSOJTW1</td>\n",
       "      <td>B003Y34SMG</td>\n",
       "      <td>968335071</td>\n",
       "      <td>Aimo Wireless IPHONE4GPCLP005H Rubber Essentia...</td>\n",
       "      <td>Wireless</td>\n",
       "      <td>2</td>\n",
       "      <td>0</td>\n",
       "      <td>0</td>\n",
       "      <td>0</td>\n",
       "      <td>1</td>\n",
       "      <td>Fits great, but color is off</td>\n",
       "      <td>None</td>\n",
       "      <td>2013-01-07</td>\n",
       "    </tr>\n",
       "    <tr>\n",
       "      <th>5958680</th>\n",
       "      <td>US</td>\n",
       "      <td>31485740</td>\n",
       "      <td>R1X5SQQCE967EE</td>\n",
       "      <td>B00EPLTC1I</td>\n",
       "      <td>325331105</td>\n",
       "      <td>Nexus 5 Case, Ringke [Slim] Snug-Fit Slender [...</td>\n",
       "      <td>Wireless</td>\n",
       "      <td>2</td>\n",
       "      <td>0</td>\n",
       "      <td>0</td>\n",
       "      <td>0</td>\n",
       "      <td>1</td>\n",
       "      <td>OK Slim Case</td>\n",
       "      <td>None</td>\n",
       "      <td>2013-12-08</td>\n",
       "    </tr>\n",
       "    <tr>\n",
       "      <th>8209530</th>\n",
       "      <td>US</td>\n",
       "      <td>10180977</td>\n",
       "      <td>RFRQFLY4H1WKG</td>\n",
       "      <td>B005G16V6U</td>\n",
       "      <td>311720881</td>\n",
       "      <td>BLACKBERRY BOLD 9930 SCREEN PROTECTOR 6-IN-1 P...</td>\n",
       "      <td>Wireless</td>\n",
       "      <td>2</td>\n",
       "      <td>0</td>\n",
       "      <td>0</td>\n",
       "      <td>0</td>\n",
       "      <td>1</td>\n",
       "      <td>it does not match the phone dimension</td>\n",
       "      <td>None</td>\n",
       "      <td>2012-02-12</td>\n",
       "    </tr>\n",
       "  </tbody>\n",
       "</table>\n",
       "<p>450100 rows × 15 columns</p>\n",
       "</div>"
      ],
      "text/plain": [
       "        marketplace customer_id       review_id  product_id product_parent  \\\n",
       "5688397          US    46632376  R2O0G4Q1PNWG1F  B00DHZBM98       36942601   \n",
       "8547800          US    21069192  R26FF3VKSSF9PN  B003NBTU2M      709773372   \n",
       "4478014          US     9715549  R1SJSBZJM2V11J  B006WCT7Q8      165672789   \n",
       "4111190          US     6333661  R3GBSEQWBB0P6A  B00KR9FT4Q      897361851   \n",
       "3221802          US     6464636  R2BGCP8L0OB7R6  B00D4BDG9O      198845889   \n",
       "...             ...         ...             ...         ...            ...   \n",
       "4484327          US     9280610   RXL3VT2ZJUL5A  B0098USUYG       47084439   \n",
       "5137132          US     1908736  R2EYBLFCAERSOQ  B00BTNEAR6      336272712   \n",
       "7553805          US    17989523  R3GRR0VNSOJTW1  B003Y34SMG      968335071   \n",
       "5958680          US    31485740  R1X5SQQCE967EE  B00EPLTC1I      325331105   \n",
       "8209530          US    10180977   RFRQFLY4H1WKG  B005G16V6U      311720881   \n",
       "\n",
       "                                             product_title product_category  \\\n",
       "5688397  Rainbow Star Hard Cover Case for Motorola Droi...         Wireless   \n",
       "8547800             Retractable Car Charger for HTC EVO 4G         Wireless   \n",
       "4478014  Micro USB Wall Charger for Sony Ericsson Vivaz...         Wireless   \n",
       "4111190  RAVPower 2800mAh Galaxy S4 Replacement Battery...         Wireless   \n",
       "3221802  Kyocera Duraxt E4277 Soft Touch Rubberized Hol...         Wireless   \n",
       "...                                                    ...              ...   \n",
       "4484327  BestDealUSA Great Fit Screw Type Short Top Roo...         Wireless   \n",
       "5137132  Aria Rose Pink White Zebra Combo Hard Soft Hig...         Wireless   \n",
       "7553805  Aimo Wireless IPHONE4GPCLP005H Rubber Essentia...         Wireless   \n",
       "5958680  Nexus 5 Case, Ringke [Slim] Snug-Fit Slender [...         Wireless   \n",
       "8209530  BLACKBERRY BOLD 9930 SCREEN PROTECTOR 6-IN-1 P...         Wireless   \n",
       "\n",
       "         star_rating  helpful_votes  total_votes  vine  verified_purchase  \\\n",
       "5688397            5              0            0     0                  1   \n",
       "8547800            5              1            1     0                  1   \n",
       "4478014            5              0            0     0                  1   \n",
       "4111190            5              0            2     0                  1   \n",
       "3221802            5              1            1     0                  1   \n",
       "...              ...            ...          ...   ...                ...   \n",
       "4484327            2              0            0     0                  1   \n",
       "5137132            2              0            0     0                  1   \n",
       "7553805            2              0            0     0                  1   \n",
       "5958680            2              0            0     0                  1   \n",
       "8209530            2              0            0     0                  1   \n",
       "\n",
       "                               review_headline  \\\n",
       "5688397                           Awesome case   \n",
       "8547800                       Love this thing!   \n",
       "4478014                             Five Stars   \n",
       "4111190                                5 stars   \n",
       "3221802                             Five Stars   \n",
       "...                                        ...   \n",
       "4484327                              Two Stars   \n",
       "5137132                                It's ok   \n",
       "7553805           Fits great, but color is off   \n",
       "5958680                           OK Slim Case   \n",
       "8209530  it does not match the phone dimension   \n",
       "\n",
       "                                               review_body review_date  \n",
       "5688397  This case fit my phone perfectly and I loved t...  2014-01-21  \n",
       "8547800  This was one of the most practical and economi...  2011-03-01  \n",
       "4478014                                          excelente  2014-08-07  \n",
       "4111190                      I love it. And it's reliable.  2014-09-16  \n",
       "3221802                      I got the right one this time  2014-12-12  \n",
       "...                                                    ...         ...  \n",
       "4484327                                               None  2014-08-06  \n",
       "5137132                                               None  2014-04-28  \n",
       "7553805                                               None  2013-01-07  \n",
       "5958680                                               None  2013-12-08  \n",
       "8209530                                               None  2012-02-12  \n",
       "\n",
       "[450100 rows x 15 columns]"
      ]
     },
     "execution_count": 2,
     "metadata": {},
     "output_type": "execute_result"
    }
   ],
   "source": [
    "df=pd.read_parquet('classificationData.parquet',engine='pyarrow')\n",
    "df"
   ]
  },
  {
   "cell_type": "markdown",
   "metadata": {},
   "source": [
    "# EDA"
   ]
  },
  {
   "cell_type": "code",
   "execution_count": 3,
   "metadata": {},
   "outputs": [
    {
     "data": {
      "text/plain": [
       "marketplace          450100\n",
       "customer_id          450100\n",
       "review_id            450100\n",
       "product_id           450100\n",
       "product_parent       450100\n",
       "product_title        450100\n",
       "product_category     450100\n",
       "star_rating          450100\n",
       "helpful_votes        450100\n",
       "total_votes          450100\n",
       "vine                 450100\n",
       "verified_purchase    450100\n",
       "review_headline      450100\n",
       "review_body          343168\n",
       "review_date          450100\n",
       "dtype: int64"
      ]
     },
     "execution_count": 3,
     "metadata": {},
     "output_type": "execute_result"
    }
   ],
   "source": [
    "df.count()"
   ]
  },
  {
   "cell_type": "code",
   "execution_count": 4,
   "metadata": {},
   "outputs": [
    {
     "data": {
      "text/plain": [
       "marketplace               0\n",
       "customer_id               0\n",
       "review_id                 0\n",
       "product_id                0\n",
       "product_parent            0\n",
       "product_title             0\n",
       "product_category          0\n",
       "star_rating               0\n",
       "helpful_votes             0\n",
       "total_votes               0\n",
       "vine                      0\n",
       "verified_purchase         0\n",
       "review_headline           0\n",
       "review_body          106932\n",
       "review_date               0\n",
       "dtype: int64"
      ]
     },
     "execution_count": 4,
     "metadata": {},
     "output_type": "execute_result"
    }
   ],
   "source": [
    "df.isnull().sum()"
   ]
  },
  {
   "cell_type": "markdown",
   "metadata": {},
   "source": [
    "+ We drop review_body because it have lot of missing values"
   ]
  },
  {
   "cell_type": "code",
   "execution_count": 5,
   "metadata": {},
   "outputs": [],
   "source": [
    "df.dropna(subset=['review_body'],inplace = True)"
   ]
  },
  {
   "cell_type": "markdown",
   "metadata": {},
   "source": [
    "# dropping unneccesory columns"
   ]
  },
  {
   "cell_type": "code",
   "execution_count": 6,
   "metadata": {},
   "outputs": [
    {
     "data": {
      "text/plain": [
       "Index(['marketplace', 'customer_id', 'review_id', 'product_id',\n",
       "       'product_parent', 'product_title', 'product_category', 'star_rating',\n",
       "       'helpful_votes', 'total_votes', 'vine', 'verified_purchase',\n",
       "       'review_headline', 'review_body', 'review_date'],\n",
       "      dtype='object')"
      ]
     },
     "execution_count": 6,
     "metadata": {},
     "output_type": "execute_result"
    }
   ],
   "source": [
    "df.columns"
   ]
  },
  {
   "cell_type": "code",
   "execution_count": 7,
   "metadata": {},
   "outputs": [
    {
     "data": {
      "text/html": [
       "<div>\n",
       "<style scoped>\n",
       "    .dataframe tbody tr th:only-of-type {\n",
       "        vertical-align: middle;\n",
       "    }\n",
       "\n",
       "    .dataframe tbody tr th {\n",
       "        vertical-align: top;\n",
       "    }\n",
       "\n",
       "    .dataframe thead th {\n",
       "        text-align: right;\n",
       "    }\n",
       "</style>\n",
       "<table border=\"1\" class=\"dataframe\">\n",
       "  <thead>\n",
       "    <tr style=\"text-align: right;\">\n",
       "      <th></th>\n",
       "      <th>star_rating</th>\n",
       "      <th>review_headline</th>\n",
       "    </tr>\n",
       "  </thead>\n",
       "  <tbody>\n",
       "    <tr>\n",
       "      <th>5688397</th>\n",
       "      <td>5</td>\n",
       "      <td>Awesome case</td>\n",
       "    </tr>\n",
       "    <tr>\n",
       "      <th>8547800</th>\n",
       "      <td>5</td>\n",
       "      <td>Love this thing!</td>\n",
       "    </tr>\n",
       "    <tr>\n",
       "      <th>4478014</th>\n",
       "      <td>5</td>\n",
       "      <td>Five Stars</td>\n",
       "    </tr>\n",
       "    <tr>\n",
       "      <th>4111190</th>\n",
       "      <td>5</td>\n",
       "      <td>5 stars</td>\n",
       "    </tr>\n",
       "    <tr>\n",
       "      <th>3221802</th>\n",
       "      <td>5</td>\n",
       "      <td>Five Stars</td>\n",
       "    </tr>\n",
       "  </tbody>\n",
       "</table>\n",
       "</div>"
      ],
      "text/plain": [
       "         star_rating   review_headline\n",
       "5688397            5      Awesome case\n",
       "8547800            5  Love this thing!\n",
       "4478014            5        Five Stars\n",
       "4111190            5           5 stars\n",
       "3221802            5        Five Stars"
      ]
     },
     "execution_count": 7,
     "metadata": {},
     "output_type": "execute_result"
    }
   ],
   "source": [
    "df1 = df.drop(columns=['marketplace', 'customer_id', 'review_id', 'product_id',\n",
    "       'product_parent', 'product_title', 'product_category','helpful_votes', 'total_votes','review_body', 'vine', 'verified_purchase','review_date'])\n",
    "df1.head()"
   ]
  },
  {
   "cell_type": "code",
   "execution_count": 8,
   "metadata": {},
   "outputs": [],
   "source": [
    "#df['customer_id'].nunique()"
   ]
  },
  {
   "cell_type": "code",
   "execution_count": 9,
   "metadata": {},
   "outputs": [],
   "source": [
    "#df['review_id'].nunique()"
   ]
  },
  {
   "cell_type": "code",
   "execution_count": 10,
   "metadata": {},
   "outputs": [],
   "source": [
    "#df['product_id'].nunique()"
   ]
  },
  {
   "cell_type": "code",
   "execution_count": 11,
   "metadata": {},
   "outputs": [
    {
     "data": {
      "text/plain": [
       "5688397    False\n",
       "8547800    False\n",
       "4478014    False\n",
       "4111190    False\n",
       "3221802     True\n",
       "           ...  \n",
       "8917982     True\n",
       "142724      True\n",
       "6012033     True\n",
       "3592293     True\n",
       "8564454     True\n",
       "Length: 343168, dtype: bool"
      ]
     },
     "execution_count": 11,
     "metadata": {},
     "output_type": "execute_result"
    }
   ],
   "source": [
    "df1.duplicated()"
   ]
  },
  {
   "cell_type": "code",
   "execution_count": 12,
   "metadata": {},
   "outputs": [
    {
     "data": {
      "text/plain": [
       "(204343, 2)"
      ]
     },
     "execution_count": 12,
     "metadata": {},
     "output_type": "execute_result"
    }
   ],
   "source": [
    "#Count of duplicated rows\n",
    "df1[df1.duplicated()].shape"
   ]
  },
  {
   "cell_type": "code",
   "execution_count": 13,
   "metadata": {},
   "outputs": [
    {
     "data": {
      "text/html": [
       "<div>\n",
       "<style scoped>\n",
       "    .dataframe tbody tr th:only-of-type {\n",
       "        vertical-align: middle;\n",
       "    }\n",
       "\n",
       "    .dataframe tbody tr th {\n",
       "        vertical-align: top;\n",
       "    }\n",
       "\n",
       "    .dataframe thead th {\n",
       "        text-align: right;\n",
       "    }\n",
       "</style>\n",
       "<table border=\"1\" class=\"dataframe\">\n",
       "  <thead>\n",
       "    <tr style=\"text-align: right;\">\n",
       "      <th></th>\n",
       "      <th>star_rating</th>\n",
       "      <th>review_headline</th>\n",
       "    </tr>\n",
       "  </thead>\n",
       "  <tbody>\n",
       "    <tr>\n",
       "      <th>5688397</th>\n",
       "      <td>5</td>\n",
       "      <td>Awesome case</td>\n",
       "    </tr>\n",
       "    <tr>\n",
       "      <th>8547800</th>\n",
       "      <td>5</td>\n",
       "      <td>Love this thing!</td>\n",
       "    </tr>\n",
       "    <tr>\n",
       "      <th>4478014</th>\n",
       "      <td>5</td>\n",
       "      <td>Five Stars</td>\n",
       "    </tr>\n",
       "    <tr>\n",
       "      <th>4111190</th>\n",
       "      <td>5</td>\n",
       "      <td>5 stars</td>\n",
       "    </tr>\n",
       "    <tr>\n",
       "      <th>5157269</th>\n",
       "      <td>5</td>\n",
       "      <td>super cute</td>\n",
       "    </tr>\n",
       "    <tr>\n",
       "      <th>...</th>\n",
       "      <td>...</td>\n",
       "      <td>...</td>\n",
       "    </tr>\n",
       "    <tr>\n",
       "      <th>4889413</th>\n",
       "      <td>2</td>\n",
       "      <td>Quality isn't great</td>\n",
       "    </tr>\n",
       "    <tr>\n",
       "      <th>7684843</th>\n",
       "      <td>2</td>\n",
       "      <td>Poor quality, lightening connection is too large</td>\n",
       "    </tr>\n",
       "    <tr>\n",
       "      <th>281695</th>\n",
       "      <td>2</td>\n",
       "      <td>Blinding LEDS - Only worked 2 weeks...</td>\n",
       "    </tr>\n",
       "    <tr>\n",
       "      <th>4783403</th>\n",
       "      <td>2</td>\n",
       "      <td>USB Car Charger is Flawed</td>\n",
       "    </tr>\n",
       "    <tr>\n",
       "      <th>5501332</th>\n",
       "      <td>2</td>\n",
       "      <td>Very tight for a 5S</td>\n",
       "    </tr>\n",
       "  </tbody>\n",
       "</table>\n",
       "<p>138825 rows × 2 columns</p>\n",
       "</div>"
      ],
      "text/plain": [
       "         star_rating                                   review_headline\n",
       "5688397            5                                      Awesome case\n",
       "8547800            5                                  Love this thing!\n",
       "4478014            5                                        Five Stars\n",
       "4111190            5                                           5 stars\n",
       "5157269            5                                        super cute\n",
       "...              ...                                               ...\n",
       "4889413            2                               Quality isn't great\n",
       "7684843            2  Poor quality, lightening connection is too large\n",
       "281695             2            Blinding LEDS - Only worked 2 weeks...\n",
       "4783403            2                         USB Car Charger is Flawed\n",
       "5501332            2                               Very tight for a 5S\n",
       "\n",
       "[138825 rows x 2 columns]"
      ]
     },
     "execution_count": 13,
     "metadata": {},
     "output_type": "execute_result"
    }
   ],
   "source": [
    "df1.drop_duplicates()"
   ]
  },
  {
   "cell_type": "code",
   "execution_count": 14,
   "metadata": {},
   "outputs": [
    {
     "data": {
      "text/plain": [
       "(343168, 2)"
      ]
     },
     "execution_count": 14,
     "metadata": {},
     "output_type": "execute_result"
    }
   ],
   "source": [
    "df1.shape"
   ]
  },
  {
   "cell_type": "code",
   "execution_count": 15,
   "metadata": {},
   "outputs": [
    {
     "name": "stdout",
     "output_type": "stream",
     "text": [
      "<class 'pandas.core.frame.DataFrame'>\n",
      "Int64Index: 343168 entries, 5688397 to 8564454\n",
      "Data columns (total 2 columns):\n",
      " #   Column           Non-Null Count   Dtype \n",
      "---  ------           --------------   ----- \n",
      " 0   star_rating      343168 non-null  int32 \n",
      " 1   review_headline  343168 non-null  object\n",
      "dtypes: int32(1), object(1)\n",
      "memory usage: 6.5+ MB\n"
     ]
    }
   ],
   "source": [
    "df1.info()"
   ]
  },
  {
   "cell_type": "code",
   "execution_count": 16,
   "metadata": {},
   "outputs": [
    {
     "data": {
      "text/html": [
       "<div>\n",
       "<style scoped>\n",
       "    .dataframe tbody tr th:only-of-type {\n",
       "        vertical-align: middle;\n",
       "    }\n",
       "\n",
       "    .dataframe tbody tr th {\n",
       "        vertical-align: top;\n",
       "    }\n",
       "\n",
       "    .dataframe thead th {\n",
       "        text-align: right;\n",
       "    }\n",
       "</style>\n",
       "<table border=\"1\" class=\"dataframe\">\n",
       "  <thead>\n",
       "    <tr style=\"text-align: right;\">\n",
       "      <th></th>\n",
       "      <th>star_rating</th>\n",
       "    </tr>\n",
       "  </thead>\n",
       "  <tbody>\n",
       "    <tr>\n",
       "      <th>count</th>\n",
       "      <td>343168.000000</td>\n",
       "    </tr>\n",
       "    <tr>\n",
       "      <th>mean</th>\n",
       "      <td>3.890779</td>\n",
       "    </tr>\n",
       "    <tr>\n",
       "      <th>std</th>\n",
       "      <td>1.462352</td>\n",
       "    </tr>\n",
       "    <tr>\n",
       "      <th>min</th>\n",
       "      <td>1.000000</td>\n",
       "    </tr>\n",
       "    <tr>\n",
       "      <th>25%</th>\n",
       "      <td>3.000000</td>\n",
       "    </tr>\n",
       "    <tr>\n",
       "      <th>50%</th>\n",
       "      <td>5.000000</td>\n",
       "    </tr>\n",
       "    <tr>\n",
       "      <th>75%</th>\n",
       "      <td>5.000000</td>\n",
       "    </tr>\n",
       "    <tr>\n",
       "      <th>max</th>\n",
       "      <td>5.000000</td>\n",
       "    </tr>\n",
       "  </tbody>\n",
       "</table>\n",
       "</div>"
      ],
      "text/plain": [
       "         star_rating\n",
       "count  343168.000000\n",
       "mean        3.890779\n",
       "std         1.462352\n",
       "min         1.000000\n",
       "25%         3.000000\n",
       "50%         5.000000\n",
       "75%         5.000000\n",
       "max         5.000000"
      ]
     },
     "execution_count": 16,
     "metadata": {},
     "output_type": "execute_result"
    }
   ],
   "source": [
    "df1.describe()"
   ]
  },
  {
   "cell_type": "markdown",
   "metadata": {},
   "source": [
    "# Converting the rating to Positive or Negative"
   ]
  },
  {
   "cell_type": "code",
   "execution_count": 17,
   "metadata": {},
   "outputs": [],
   "source": [
    "def f(row):\n",
    "    \n",
    "    '''This function returns sentiment value based on the overall ratings from the user'''\n",
    "    \n",
    "    if row['star_rating'] == 1 or row['star_rating']  == 2 :\n",
    "        val = 'Negative'\n",
    "    elif row['star_rating'] == 3 or row['star_rating'] == 4 :\n",
    "        val = 'Neutral'\n",
    "    elif row['star_rating'] == 5  :\n",
    "        val = 'Positive'\n",
    "    else:\n",
    "        val = -1\n",
    "    return val"
   ]
  },
  {
   "cell_type": "markdown",
   "metadata": {},
   "source": [
    "# Applying the function in our new column"
   ]
  },
  {
   "cell_type": "code",
   "execution_count": 18,
   "metadata": {},
   "outputs": [
    {
     "data": {
      "text/html": [
       "<div>\n",
       "<style scoped>\n",
       "    .dataframe tbody tr th:only-of-type {\n",
       "        vertical-align: middle;\n",
       "    }\n",
       "\n",
       "    .dataframe tbody tr th {\n",
       "        vertical-align: top;\n",
       "    }\n",
       "\n",
       "    .dataframe thead th {\n",
       "        text-align: right;\n",
       "    }\n",
       "</style>\n",
       "<table border=\"1\" class=\"dataframe\">\n",
       "  <thead>\n",
       "    <tr style=\"text-align: right;\">\n",
       "      <th></th>\n",
       "      <th>star_rating</th>\n",
       "      <th>review_headline</th>\n",
       "      <th>sentiment</th>\n",
       "    </tr>\n",
       "  </thead>\n",
       "  <tbody>\n",
       "    <tr>\n",
       "      <th>5688397</th>\n",
       "      <td>5</td>\n",
       "      <td>Awesome case</td>\n",
       "      <td>Positive</td>\n",
       "    </tr>\n",
       "    <tr>\n",
       "      <th>8547800</th>\n",
       "      <td>5</td>\n",
       "      <td>Love this thing!</td>\n",
       "      <td>Positive</td>\n",
       "    </tr>\n",
       "    <tr>\n",
       "      <th>4478014</th>\n",
       "      <td>5</td>\n",
       "      <td>Five Stars</td>\n",
       "      <td>Positive</td>\n",
       "    </tr>\n",
       "    <tr>\n",
       "      <th>4111190</th>\n",
       "      <td>5</td>\n",
       "      <td>5 stars</td>\n",
       "      <td>Positive</td>\n",
       "    </tr>\n",
       "    <tr>\n",
       "      <th>3221802</th>\n",
       "      <td>5</td>\n",
       "      <td>Five Stars</td>\n",
       "      <td>Positive</td>\n",
       "    </tr>\n",
       "  </tbody>\n",
       "</table>\n",
       "</div>"
      ],
      "text/plain": [
       "         star_rating   review_headline sentiment\n",
       "5688397            5      Awesome case  Positive\n",
       "8547800            5  Love this thing!  Positive\n",
       "4478014            5        Five Stars  Positive\n",
       "4111190            5           5 stars  Positive\n",
       "3221802            5        Five Stars  Positive"
      ]
     },
     "execution_count": 18,
     "metadata": {},
     "output_type": "execute_result"
    }
   ],
   "source": [
    "df1['sentiment'] = df1.apply(f, axis=1)\n",
    "df1.head()"
   ]
  },
  {
   "cell_type": "code",
   "execution_count": null,
   "metadata": {},
   "outputs": [],
   "source": []
  },
  {
   "cell_type": "code",
   "execution_count": 19,
   "metadata": {},
   "outputs": [
    {
     "data": {
      "text/html": [
       "<div>\n",
       "<style scoped>\n",
       "    .dataframe tbody tr th:only-of-type {\n",
       "        vertical-align: middle;\n",
       "    }\n",
       "\n",
       "    .dataframe tbody tr th {\n",
       "        vertical-align: top;\n",
       "    }\n",
       "\n",
       "    .dataframe thead th {\n",
       "        text-align: right;\n",
       "    }\n",
       "</style>\n",
       "<table border=\"1\" class=\"dataframe\">\n",
       "  <thead>\n",
       "    <tr style=\"text-align: right;\">\n",
       "      <th></th>\n",
       "      <th>star_rating</th>\n",
       "      <th>review_headline</th>\n",
       "      <th>sentiment</th>\n",
       "    </tr>\n",
       "  </thead>\n",
       "  <tbody>\n",
       "    <tr>\n",
       "      <th>5688397</th>\n",
       "      <td>5</td>\n",
       "      <td>Awesome case</td>\n",
       "      <td>Positive</td>\n",
       "    </tr>\n",
       "    <tr>\n",
       "      <th>8547800</th>\n",
       "      <td>5</td>\n",
       "      <td>Love this thing!</td>\n",
       "      <td>Positive</td>\n",
       "    </tr>\n",
       "    <tr>\n",
       "      <th>4478014</th>\n",
       "      <td>5</td>\n",
       "      <td>Five Stars</td>\n",
       "      <td>Positive</td>\n",
       "    </tr>\n",
       "    <tr>\n",
       "      <th>4111190</th>\n",
       "      <td>5</td>\n",
       "      <td>5 stars</td>\n",
       "      <td>Positive</td>\n",
       "    </tr>\n",
       "    <tr>\n",
       "      <th>3221802</th>\n",
       "      <td>5</td>\n",
       "      <td>Five Stars</td>\n",
       "      <td>Positive</td>\n",
       "    </tr>\n",
       "    <tr>\n",
       "      <th>5157269</th>\n",
       "      <td>5</td>\n",
       "      <td>super cute</td>\n",
       "      <td>Positive</td>\n",
       "    </tr>\n",
       "    <tr>\n",
       "      <th>2232233</th>\n",
       "      <td>5</td>\n",
       "      <td>Five Stars</td>\n",
       "      <td>Positive</td>\n",
       "    </tr>\n",
       "    <tr>\n",
       "      <th>1753049</th>\n",
       "      <td>5</td>\n",
       "      <td>They are rugged and work just as great as an OEM</td>\n",
       "      <td>Positive</td>\n",
       "    </tr>\n",
       "    <tr>\n",
       "      <th>8723917</th>\n",
       "      <td>5</td>\n",
       "      <td>AVH-P4200DVD</td>\n",
       "      <td>Positive</td>\n",
       "    </tr>\n",
       "    <tr>\n",
       "      <th>8576142</th>\n",
       "      <td>5</td>\n",
       "      <td>So far, so good.</td>\n",
       "      <td>Positive</td>\n",
       "    </tr>\n",
       "    <tr>\n",
       "      <th>7561985</th>\n",
       "      <td>5</td>\n",
       "      <td>the best, period.  don't even mess with wires ...</td>\n",
       "      <td>Positive</td>\n",
       "    </tr>\n",
       "    <tr>\n",
       "      <th>1612696</th>\n",
       "      <td>5</td>\n",
       "      <td>Glad I went with this one</td>\n",
       "      <td>Positive</td>\n",
       "    </tr>\n",
       "    <tr>\n",
       "      <th>164801</th>\n",
       "      <td>5</td>\n",
       "      <td>Five Stars</td>\n",
       "      <td>Positive</td>\n",
       "    </tr>\n",
       "    <tr>\n",
       "      <th>4227807</th>\n",
       "      <td>5</td>\n",
       "      <td>Five Stars</td>\n",
       "      <td>Positive</td>\n",
       "    </tr>\n",
       "    <tr>\n",
       "      <th>8092410</th>\n",
       "      <td>5</td>\n",
       "      <td>Very good product</td>\n",
       "      <td>Positive</td>\n",
       "    </tr>\n",
       "    <tr>\n",
       "      <th>4153330</th>\n",
       "      <td>5</td>\n",
       "      <td>Beautiful case &amp; the rose just needs a bit of ...</td>\n",
       "      <td>Positive</td>\n",
       "    </tr>\n",
       "    <tr>\n",
       "      <th>5561336</th>\n",
       "      <td>5</td>\n",
       "      <td>Love this product very loud even at 80 mph no ...</td>\n",
       "      <td>Positive</td>\n",
       "    </tr>\n",
       "    <tr>\n",
       "      <th>8774553</th>\n",
       "      <td>5</td>\n",
       "      <td>Works from 120-240 V, charges/ powers ANY USB ...</td>\n",
       "      <td>Positive</td>\n",
       "    </tr>\n",
       "    <tr>\n",
       "      <th>3962032</th>\n",
       "      <td>5</td>\n",
       "      <td>Five Stars</td>\n",
       "      <td>Positive</td>\n",
       "    </tr>\n",
       "    <tr>\n",
       "      <th>3314957</th>\n",
       "      <td>5</td>\n",
       "      <td>but after 8 years of use they did good! i reco...</td>\n",
       "      <td>Positive</td>\n",
       "    </tr>\n",
       "  </tbody>\n",
       "</table>\n",
       "</div>"
      ],
      "text/plain": [
       "         star_rating                                    review_headline  \\\n",
       "5688397            5                                       Awesome case   \n",
       "8547800            5                                   Love this thing!   \n",
       "4478014            5                                         Five Stars   \n",
       "4111190            5                                            5 stars   \n",
       "3221802            5                                         Five Stars   \n",
       "5157269            5                                         super cute   \n",
       "2232233            5                                         Five Stars   \n",
       "1753049            5   They are rugged and work just as great as an OEM   \n",
       "8723917            5                                       AVH-P4200DVD   \n",
       "8576142            5                                   So far, so good.   \n",
       "7561985            5  the best, period.  don't even mess with wires ...   \n",
       "1612696            5                          Glad I went with this one   \n",
       "164801             5                                         Five Stars   \n",
       "4227807            5                                         Five Stars   \n",
       "8092410            5                                  Very good product   \n",
       "4153330            5  Beautiful case & the rose just needs a bit of ...   \n",
       "5561336            5  Love this product very loud even at 80 mph no ...   \n",
       "8774553            5  Works from 120-240 V, charges/ powers ANY USB ...   \n",
       "3962032            5                                         Five Stars   \n",
       "3314957            5  but after 8 years of use they did good! i reco...   \n",
       "\n",
       "        sentiment  \n",
       "5688397  Positive  \n",
       "8547800  Positive  \n",
       "4478014  Positive  \n",
       "4111190  Positive  \n",
       "3221802  Positive  \n",
       "5157269  Positive  \n",
       "2232233  Positive  \n",
       "1753049  Positive  \n",
       "8723917  Positive  \n",
       "8576142  Positive  \n",
       "7561985  Positive  \n",
       "1612696  Positive  \n",
       "164801   Positive  \n",
       "4227807  Positive  \n",
       "8092410  Positive  \n",
       "4153330  Positive  \n",
       "5561336  Positive  \n",
       "8774553  Positive  \n",
       "3962032  Positive  \n",
       "3314957  Positive  "
      ]
     },
     "execution_count": 19,
     "metadata": {},
     "output_type": "execute_result"
    }
   ],
   "source": [
    "df1.head(20)"
   ]
  },
  {
   "cell_type": "markdown",
   "metadata": {},
   "source": [
    "# Removing Punctuation and Brackets and etc."
   ]
  },
  {
   "cell_type": "code",
   "execution_count": 20,
   "metadata": {},
   "outputs": [],
   "source": [
    "import nltk\n",
    "import re"
   ]
  },
  {
   "cell_type": "code",
   "execution_count": 21,
   "metadata": {},
   "outputs": [],
   "source": [
    "WPT = nltk.WordPunctTokenizer()\n",
    "stop_word_list = nltk.corpus.stopwords.words('english')\n",
    "#stop_word_list"
   ]
  },
  {
   "cell_type": "code",
   "execution_count": 22,
   "metadata": {},
   "outputs": [
    {
     "data": {
      "text/plain": [
       "'\\nI closed the stopword process because it took a long time.\\nIf you want, you can try opening the codes in the comment line.\\n'"
      ]
     },
     "execution_count": 22,
     "metadata": {},
     "output_type": "execute_result"
    }
   ],
   "source": [
    "df1['review_headline'] = df1['review_headline'].apply(lambda x: re.sub('[,\\.!?:()\"]', '', x))\n",
    "df1['review_headline'] = df1['review_headline'].apply(lambda x: re.sub('[^a-zA-Z\"]', ' ', x))\n",
    "\n",
    "df1['review_headline'] = df1['review_headline'].apply(lambda x: x.lower())\n",
    "\n",
    "df1['review_headline'] = df1['review_headline'].apply(lambda x: x.strip())\n",
    "\n",
    "\"\"\"\n",
    "I closed the stopword process because it took a long time.\n",
    "If you want, you can try opening the codes in the comment line.\n",
    "\"\"\"\n",
    "#def token(values):\n",
    "   # words = nltk.tokenize.word_tokenize(values)\n",
    "    #filtered_words = [word for word in words if word not in set(stopwords.words(\"english\"))]\n",
    "    #not_stopword_doc = \" \".join(filtered_words)\n",
    "    #return not_stopword_doc\n",
    "#data['review content'] = data['review content'].apply(lambda x: token(x))"
   ]
  },
  {
   "cell_type": "markdown",
   "metadata": {},
   "source": [
    "# Visualisation for sentiments"
   ]
  },
  {
   "cell_type": "code",
   "execution_count": 23,
   "metadata": {},
   "outputs": [
    {
     "name": "stderr",
     "output_type": "stream",
     "text": [
      "C:\\Users\\DELL\\anaconda3\\lib\\site-packages\\seaborn\\_decorators.py:36: FutureWarning: Pass the following variable as a keyword arg: x. From version 0.12, the only valid positional argument will be `data`, and passing other arguments without an explicit keyword will result in an error or misinterpretation.\n",
      "  warnings.warn(\n"
     ]
    },
    {
     "data": {
      "image/png": "[encoded data removed]",
      "text/plain": [
       "<Figure size 432x288 with 1 Axes>"
      ]
     },
     "metadata": {
      "needs_background": "light"
     },
     "output_type": "display_data"
    },
    {
     "name": "stdout",
     "output_type": "stream",
     "text": [
      "Positive    183397\n",
      "Neutral      88947\n",
      "Negative     70824\n",
      "Name: sentiment, dtype: int64\n"
     ]
    }
   ],
   "source": [
    "import seaborn as sns\n",
    "import matplotlib.pyplot as plt\n",
    "\n",
    "sns.countplot(df1[\"sentiment\"], palette = [\"green\",\"red\",\"blue\"])\n",
    "plt.show()\n",
    "print(df1.sentiment.value_counts())"
   ]
  },
  {
   "cell_type": "markdown",
   "metadata": {},
   "source": [
    "# FEATURE EXTRACTION"
   ]
  },
  {
   "cell_type": "code",
   "execution_count": 24,
   "metadata": {},
   "outputs": [],
   "source": [
    "from sklearn.feature_extraction.text import CountVectorizer\n",
    "Vectorizer = CountVectorizer()"
   ]
  },
  {
   "cell_type": "markdown",
   "metadata": {},
   "source": [
    "# BALANCE THE DATA"
   ]
  },
  {
   "cell_type": "code",
   "execution_count": 25,
   "metadata": {},
   "outputs": [
    {
     "data": {
      "text/plain": [
       "Positive    183397\n",
       "Neutral      88947\n",
       "Negative     70824\n",
       "Name: sentiment, dtype: int64"
      ]
     },
     "execution_count": 25,
     "metadata": {},
     "output_type": "execute_result"
    }
   ],
   "source": [
    "x = df1['review_headline']\n",
    "y = df1['sentiment']\n",
    "y.value_counts()"
   ]
  },
  {
   "cell_type": "code",
   "execution_count": 26,
   "metadata": {},
   "outputs": [],
   "source": [
    "from imblearn.under_sampling import RandomUnderSampler"
   ]
  },
  {
   "cell_type": "code",
   "execution_count": 27,
   "metadata": {},
   "outputs": [
    {
     "name": "stdout",
     "output_type": "stream",
     "text": [
      "212472\n"
     ]
    }
   ],
   "source": [
    "import numpy as np\n",
    "rus = RandomUnderSampler()\n",
    "y = np.array(y)\n",
    "x = np.array(x)\n",
    "y = np.reshape(y, (-1,1))\n",
    "x = np.reshape(x, (-1,1))\n",
    "x_r, y_r = rus.fit_resample(x, y)\n",
    "print(len(y_r))"
   ]
  },
  {
   "cell_type": "code",
   "execution_count": 28,
   "metadata": {},
   "outputs": [
    {
     "data": {
      "text/plain": [
       "RandomUnderSampler()"
      ]
     },
     "execution_count": 28,
     "metadata": {},
     "output_type": "execute_result"
    }
   ],
   "source": [
    "from sklearn.model_selection import train_test_split\n",
    "x_train, x_test, y_train, y_test = train_test_split(x_r,y_r,test_size=0.2,random_state=42)\n",
    "x_test = x_test.reshape(-1)\n",
    "x_train = Vectorizer.fit_transform(x_train.reshape(-1))\n",
    "x_test = Vectorizer.transform(x_test)\n",
    "rus.fit(x_train, y_train)"
   ]
  },
  {
   "cell_type": "markdown",
   "metadata": {},
   "source": [
    "# MODEL BUILDING and PREDICTIION"
   ]
  },
  {
   "cell_type": "markdown",
   "metadata": {},
   "source": [
    "# MULTINOMIAL NAIVE BAYES"
   ]
  },
  {
   "cell_type": "code",
   "execution_count": 29,
   "metadata": {},
   "outputs": [],
   "source": [
    "from sklearn.naive_bayes import MultinomialNB \n",
    "from sklearn.metrics import accuracy_score , classification_report , confusion_matrix\n",
    "import pickle\n",
    "import seaborn as sns"
   ]
  },
  {
   "cell_type": "code",
   "execution_count": 30,
   "metadata": {},
   "outputs": [
    {
     "data": {
      "text/plain": [
       "MultinomialNB()"
      ]
     },
     "execution_count": 30,
     "metadata": {},
     "output_type": "execute_result"
    }
   ],
   "source": [
    "mnb = MultinomialNB()\n",
    "mnb.fit(x_train , y_train)"
   ]
  },
  {
   "cell_type": "code",
   "execution_count": 31,
   "metadata": {},
   "outputs": [],
   "source": [
    "pred = mnb.predict(x_test)"
   ]
  },
  {
   "cell_type": "code",
   "execution_count": 32,
   "metadata": {},
   "outputs": [
    {
     "name": "stdout",
     "output_type": "stream",
     "text": [
      "[[11343  2137   567]\n",
      " [ 2105  9173  2905]\n",
      " [  970  2682 10613]]\n",
      "              precision    recall  f1-score   support\n",
      "\n",
      "    Negative       0.79      0.81      0.80     14047\n",
      "     Neutral       0.66      0.65      0.65     14183\n",
      "    Positive       0.75      0.74      0.75     14265\n",
      "\n",
      "    accuracy                           0.73     42495\n",
      "   macro avg       0.73      0.73      0.73     42495\n",
      "weighted avg       0.73      0.73      0.73     42495\n",
      "\n",
      "0.7325332392046123\n"
     ]
    }
   ],
   "source": [
    "print(confusion_matrix(y_test , pred))\n",
    "print(classification_report(y_test , pred))\n",
    "print(accuracy_score(y_test , pred))"
   ]
  },
  {
   "cell_type": "markdown",
   "metadata": {},
   "source": [
    "# LOGISTIC REGRESSION"
   ]
  },
  {
   "cell_type": "code",
   "execution_count": 33,
   "metadata": {},
   "outputs": [],
   "source": [
    "from sklearn.linear_model import LogisticRegression"
   ]
  },
  {
   "cell_type": "code",
   "execution_count": 34,
   "metadata": {},
   "outputs": [
    {
     "data": {
      "text/plain": [
       "LogisticRegression(max_iter=4000)"
      ]
     },
     "execution_count": 34,
     "metadata": {},
     "output_type": "execute_result"
    }
   ],
   "source": [
    "Model = LogisticRegression(max_iter = 4000)\n",
    "Model.fit(x_train, y_train)"
   ]
  },
  {
   "cell_type": "code",
   "execution_count": 35,
   "metadata": {},
   "outputs": [],
   "source": [
    "from sklearn.metrics import accuracy_score, confusion_matrix"
   ]
  },
  {
   "cell_type": "code",
   "execution_count": 36,
   "metadata": {},
   "outputs": [
    {
     "name": "stdout",
     "output_type": "stream",
     "text": [
      "[[11684  1853   510]\n",
      " [ 1949  9228  3006]\n",
      " [  573  2675 11017]]\n"
     ]
    }
   ],
   "source": [
    "result = Model.predict(x_test)\n",
    "print(confusion_matrix(y_test, result))"
   ]
  },
  {
   "cell_type": "code",
   "execution_count": 37,
   "metadata": {},
   "outputs": [
    {
     "name": "stdout",
     "output_type": "stream",
     "text": [
      "0.7513589834098129\n"
     ]
    }
   ],
   "source": [
    "accuracy = accuracy_score(y_test, result)\n",
    "print(accuracy)"
   ]
  },
  {
   "cell_type": "markdown",
   "metadata": {},
   "source": [
    "## Test the Model"
   ]
  },
  {
   "cell_type": "code",
   "execution_count": 38,
   "metadata": {},
   "outputs": [
    {
     "name": "stdout",
     "output_type": "stream",
     "text": [
      "['Negative'] ['Positive'] ['Positive'] ['Negative'] ['Negative'] ['Positive']\n"
     ]
    }
   ],
   "source": [
    "pred1 = Model.predict(Vectorizer.transform([\"Do not buy it. Horrible product\"]))\n",
    "pred2 = Model.predict(Vectorizer.transform([\"This is probably the best thing i have ever bought\"]))\n",
    "pred3 = Model.predict(Vectorizer.transform([\"It works fine! Thank you!\"]))\n",
    "pred4 = Model.predict(Vectorizer.transform([\"Many disadvantages, i do not recommend it\"]))\n",
    "pred5 = Model.predict(Vectorizer.transform([\"My delivery is 2 months delayed. Pure lack of profissionalism\"]))\n",
    "pred6 = Model.predict(Vectorizer.transform([\"Excellent product!\"]))\n",
    "\n",
    "print(pred1, pred2, pred3, pred4, pred5, pred6)"
   ]
  },
  {
   "cell_type": "markdown",
   "metadata": {},
   "source": [
    "+ accuracy is less,so to improve this we are appling randomsearchcv hyperparameter tuning"
   ]
  },
  {
   "cell_type": "markdown",
   "metadata": {},
   "source": [
    "# HYPERPARAMETER TUNING"
   ]
  },
  {
   "cell_type": "markdown",
   "metadata": {},
   "source": [
    "## Gridsearch CV"
   ]
  },
  {
   "cell_type": "raw",
   "metadata": {},
   "source": [
    "from sklearn.model_selection import GridSearchCV"
   ]
  },
  {
   "cell_type": "raw",
   "metadata": {},
   "source": [
    "# Creating the hyperparameter grid\n",
    "c_space = np.logspace(-5, 8, 15)\n",
    "param_grid = {'C': c_space}"
   ]
  },
  {
   "cell_type": "raw",
   "metadata": {},
   "source": [
    "# Instantiating the GridSearchCV object\n",
    "logreg_cv = GridSearchCV(Model, param_grid, cv = 5)\n",
    "  \n",
    "logreg_cv.fit(x_train,y_train)"
   ]
  },
  {
   "cell_type": "raw",
   "metadata": {},
   "source": [
    "# Print the tuned parameters and score\n",
    "print(\"Tuned Logistic Regression Parameters: {}\".format(logreg_cv.best_params_)) \n",
    "print(\"Best score is {}\".format(logreg_cv.best_score_))"
   ]
  },
  {
   "cell_type": "markdown",
   "metadata": {},
   "source": [
    "# RANDOM SEARCH CV"
   ]
  },
  {
   "cell_type": "code",
   "execution_count": 39,
   "metadata": {},
   "outputs": [],
   "source": [
    "from sklearn.model_selection import RandomizedSearchCV\n",
    "from scipy.stats import uniform"
   ]
  },
  {
   "cell_type": "code",
   "execution_count": 40,
   "metadata": {},
   "outputs": [],
   "source": [
    "distributions = dict(C=uniform(loc=0, scale=4))"
   ]
  },
  {
   "cell_type": "code",
   "execution_count": 41,
   "metadata": {},
   "outputs": [],
   "source": [
    "clf = RandomizedSearchCV(Model, distributions, random_state=0)"
   ]
  },
  {
   "cell_type": "code",
   "execution_count": 42,
   "metadata": {},
   "outputs": [
    {
     "data": {
      "text/plain": [
       "{'C': 2.860757465489678}"
      ]
     },
     "execution_count": 42,
     "metadata": {},
     "output_type": "execute_result"
    }
   ],
   "source": [
    "search = clf.fit(x_train,y_train)\n",
    "search.best_params_"
   ]
  },
  {
   "cell_type": "code",
   "execution_count": 43,
   "metadata": {},
   "outputs": [
    {
     "data": {
      "text/html": [
       "<div>\n",
       "<style scoped>\n",
       "    .dataframe tbody tr th:only-of-type {\n",
       "        vertical-align: middle;\n",
       "    }\n",
       "\n",
       "    .dataframe tbody tr th {\n",
       "        vertical-align: top;\n",
       "    }\n",
       "\n",
       "    .dataframe thead th {\n",
       "        text-align: right;\n",
       "    }\n",
       "</style>\n",
       "<table border=\"1\" class=\"dataframe\">\n",
       "  <thead>\n",
       "    <tr style=\"text-align: right;\">\n",
       "      <th></th>\n",
       "      <th>Actual</th>\n",
       "      <th>Predicted</th>\n",
       "    </tr>\n",
       "  </thead>\n",
       "  <tbody>\n",
       "    <tr>\n",
       "      <th>0</th>\n",
       "      <td>Negative</td>\n",
       "      <td>Positive</td>\n",
       "    </tr>\n",
       "    <tr>\n",
       "      <th>1</th>\n",
       "      <td>Negative</td>\n",
       "      <td>Neutral</td>\n",
       "    </tr>\n",
       "    <tr>\n",
       "      <th>2</th>\n",
       "      <td>Negative</td>\n",
       "      <td>Negative</td>\n",
       "    </tr>\n",
       "    <tr>\n",
       "      <th>3</th>\n",
       "      <td>Neutral</td>\n",
       "      <td>Neutral</td>\n",
       "    </tr>\n",
       "    <tr>\n",
       "      <th>4</th>\n",
       "      <td>Neutral</td>\n",
       "      <td>Neutral</td>\n",
       "    </tr>\n",
       "    <tr>\n",
       "      <th>...</th>\n",
       "      <td>...</td>\n",
       "      <td>...</td>\n",
       "    </tr>\n",
       "    <tr>\n",
       "      <th>42490</th>\n",
       "      <td>Neutral</td>\n",
       "      <td>Neutral</td>\n",
       "    </tr>\n",
       "    <tr>\n",
       "      <th>42491</th>\n",
       "      <td>Negative</td>\n",
       "      <td>Negative</td>\n",
       "    </tr>\n",
       "    <tr>\n",
       "      <th>42492</th>\n",
       "      <td>Positive</td>\n",
       "      <td>Positive</td>\n",
       "    </tr>\n",
       "    <tr>\n",
       "      <th>42493</th>\n",
       "      <td>Negative</td>\n",
       "      <td>Negative</td>\n",
       "    </tr>\n",
       "    <tr>\n",
       "      <th>42494</th>\n",
       "      <td>Positive</td>\n",
       "      <td>Positive</td>\n",
       "    </tr>\n",
       "  </tbody>\n",
       "</table>\n",
       "<p>42495 rows × 2 columns</p>\n",
       "</div>"
      ],
      "text/plain": [
       "         Actual Predicted\n",
       "0      Negative  Positive\n",
       "1      Negative   Neutral\n",
       "2      Negative  Negative\n",
       "3       Neutral   Neutral\n",
       "4       Neutral   Neutral\n",
       "...         ...       ...\n",
       "42490   Neutral   Neutral\n",
       "42491  Negative  Negative\n",
       "42492  Positive  Positive\n",
       "42493  Negative  Negative\n",
       "42494  Positive  Positive\n",
       "\n",
       "[42495 rows x 2 columns]"
      ]
     },
     "execution_count": 43,
     "metadata": {},
     "output_type": "execute_result"
    }
   ],
   "source": [
    "pd.DataFrame(np.c_[y_test , pred] , columns=[\"Actual\" , \"Predicted\"])"
   ]
  },
  {
   "cell_type": "markdown",
   "metadata": {},
   "source": [
    "# SAVE THE PICKLE FILE"
   ]
  },
  {
   "cell_type": "code",
   "execution_count": 44,
   "metadata": {},
   "outputs": [],
   "source": [
    "import pickle\n",
    "pickle.dump(Vectorizer, open(\"count-Vectorizer.pkl\" , \"wb\"))\n",
    "pickle.dump(Model, open(\"BlitzAI_xentimental_Analysis.pkl\" , \"wb\"))"
   ]
  },
  {
   "cell_type": "markdown",
   "metadata": {},
   "source": [
    "# LOAD THE PICKLE FILE"
   ]
  },
  {
   "cell_type": "code",
   "execution_count": 45,
   "metadata": {},
   "outputs": [],
   "source": [
    "save_cv = pickle.load(open('count-Vectorizer.pkl','rb'))\n",
    "model = pickle.load(open('BlitzAI_xentimental_Analysis.pkl','rb'))"
   ]
  },
  {
   "cell_type": "markdown",
   "metadata": {},
   "source": [
    "# TEST THE MODEL"
   ]
  },
  {
   "cell_type": "code",
   "execution_count": 46,
   "metadata": {},
   "outputs": [],
   "source": [
    "def test_model(sentence):\n",
    "    sen = save_cv.transform([sentence]).toarray()\n",
    "    res = model.predict(sen)[0]\n",
    "    if res == 'Positive':\n",
    "        return 'Positive review'\n",
    "    else:\n",
    "        return 'Negative review'"
   ]
  },
  {
   "cell_type": "code",
   "execution_count": 47,
   "metadata": {},
   "outputs": [
    {
     "name": "stdout",
     "output_type": "stream",
     "text": [
      "Negative review\n"
     ]
    }
   ],
   "source": [
    "sen = 'didnt work recieved bought ps4 stayed put til gave son birthday excitement didnt work blue light stayed'\n",
    "res = test_model(sen)\n",
    "print(res)\n"
   ]
  },
  {
   "cell_type": "code",
   "execution_count": 48,
   "metadata": {},
   "outputs": [
    {
     "name": "stdout",
     "output_type": "stream",
     "text": [
      "Positive review\n"
     ]
    }
   ],
   "source": [
    "sen = 'It works fine! Thank you!'\n",
    "res = test_model(sen)\n",
    "print(res)\n"
   ]
  },
  {
   "cell_type": "code",
   "execution_count": 49,
   "metadata": {},
   "outputs": [
    {
     "name": "stdout",
     "output_type": "stream",
     "text": [
      "Negative review\n"
     ]
    }
   ],
   "source": [
    "sen = 'Do not buy it. Horrible product'\n",
    "res = test_model(sen)\n",
    "print(res)\n"
   ]
  },
  {
   "cell_type": "code",
   "execution_count": 50,
   "metadata": {},
   "outputs": [
    {
     "name": "stdout",
     "output_type": "stream",
     "text": [
      "Negative review\n"
     ]
    }
   ],
   "source": [
    "sen = 'Came with the original xbox controller box all smashed up. No padding nothing. Damaged all the way......'\n",
    "res = test_model(sen)\n",
    "print(res)\n"
   ]
  },
  {
   "cell_type": "code",
   "execution_count": null,
   "metadata": {},
   "outputs": [],
   "source": []
  },
  {
   "cell_type": "code",
   "execution_count": null,
   "metadata": {},
   "outputs": [],
   "source": []
  },
  {
   "cell_type": "markdown",
   "metadata": {},
   "source": [
    "# PIPELINE"
   ]
  },
  {
   "cell_type": "code",
   "execution_count": 51,
   "metadata": {},
   "outputs": [],
   "source": [
    "#define X and Y"
   ]
  },
  {
   "cell_type": "code",
   "execution_count": 52,
   "metadata": {},
   "outputs": [],
   "source": [
    "x = df1['review_headline']\n",
    "y = df1['sentiment']"
   ]
  },
  {
   "cell_type": "code",
   "execution_count": 53,
   "metadata": {},
   "outputs": [],
   "source": [
    "## Pipelines Creation\n",
    "## 1. Hyperparameter tuning using randomsearch cv\n",
    "## 2. Apply  Classifier"
   ]
  },
  {
   "cell_type": "markdown",
   "metadata": {},
   "source": [
    "# 1.MultiNomial Naive Bayes"
   ]
  },
  {
   "cell_type": "code",
   "execution_count": 54,
   "metadata": {},
   "outputs": [],
   "source": [
    "from sklearn.pipeline import Pipeline\n",
    "pipeline_nb=Pipeline([('model_nb',MultinomialNB())])"
   ]
  },
  {
   "cell_type": "markdown",
   "metadata": {},
   "source": [
    "# 2. Logistic Regression"
   ]
  },
  {
   "cell_type": "code",
   "execution_count": 55,
   "metadata": {},
   "outputs": [],
   "source": [
    "pipeline_lr=Pipeline([('model_lr',LogisticRegression())])"
   ]
  },
  {
   "cell_type": "code",
   "execution_count": 56,
   "metadata": {},
   "outputs": [],
   "source": [
    "## LEts make the list of pipelines\n",
    "pipelines = [pipeline_nb, pipeline_lr]"
   ]
  },
  {
   "cell_type": "code",
   "execution_count": 57,
   "metadata": {},
   "outputs": [],
   "source": [
    "best_accuracy=0.0\n",
    "best_classifier=0\n",
    "best_pipeline=\"\""
   ]
  },
  {
   "cell_type": "code",
   "execution_count": 61,
   "metadata": {},
   "outputs": [],
   "source": [
    "from sklearn.model_selection import GridSearchCV"
   ]
  },
  {
   "cell_type": "code",
   "execution_count": null,
   "metadata": {},
   "outputs": [],
   "source": [
    "# Create a pipeline\n",
    "pipe = Pipeline([(\"classifier\", MultinomialNB())])\n",
    "# Create dictionary with candidate learning algorithms and their hyperparameters\n",
    "grid_param = [\n",
    "                {\"classifier\": [LogisticRegression()],\n",
    "                 \"classifier__penalty\": ['l2','l1'],\n",
    "                 \"classifier__C\": np.logspace(0, 4, 10)\n",
    "                 },\n",
    "                {\"classifier\": [LogisticRegression()],\n",
    "                 \"classifier__penalty\": ['l2'],\n",
    "                 \"classifier__C\": np.logspace(0, 4, 10),\n",
    "                 \"classifier__solver\":['newton-cg','saga','sag','liblinear'] ##This solvers don't allow L1 penalty\n",
    "                 },\n",
    "                {\"classifier\": [MultinomialNB()],\n",
    "                 \"classifier__n_estimators\": [10, 100, 1000],\n",
    "                 \"classifier__max_depth\":[5,8,15,25,30,None],\n",
    "                 \"classifier__min_samples_leaf\":[1,2,5,10,15,100],\n",
    "                 \"classifier__max_leaf_nodes\": [2, 5,10]}]\n",
    "# create a gridsearch of the pipeline, the fit the best model\n",
    "gridsearch = GridSearchCV(pipe, grid_param, cv=5, verbose=0,n_jobs=-1) # Fit grid search\n",
    "best_model = gridsearch.fit(x_train,y_train)"
   ]
  },
  {
   "cell_type": "code",
   "execution_count": null,
   "metadata": {},
   "outputs": [],
   "source": []
  }
 ],
 "metadata": {
  "kernelspec": {
   "display_name": "Python 3",
   "language": "python",
   "name": "python3"
  },
  "language_info": {
   "codemirror_mode": {
    "name": "ipython",
    "version": 3
   },
   "file_extension": ".py",
   "mimetype": "text/x-python",
   "name": "python",
   "nbconvert_exporter": "python",
   "pygments_lexer": "ipython3",
   "version": "3.8.5"
  }
 },
 "nbformat": 4,
 "nbformat_minor": 4
}
